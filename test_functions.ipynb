{
 "cells": [
  {
   "attachments": {},
   "cell_type": "markdown",
   "metadata": {},
   "source": [
    "#### Test function to extract chromosome and start- & end-positions from strings containing genomic locations "
   ]
  },
  {
   "cell_type": "code",
   "execution_count": 3,
   "metadata": {},
   "outputs": [],
   "source": [
    "from typing import Tuple\n",
    "def extract_positional_info(data_string: str) -> Tuple[str, int, int]:\n",
    "    \"\"\"\n",
    "    Extracts the chromosome name, start value, and end value from a string in the format \"chromosome_name:start-end\".\n",
    "\n",
    "    Parameters\n",
    "    ----------\n",
    "    data_string : str\n",
    "        The input string in the format \"chromosome_name:start-end\".\n",
    "\n",
    "    Returns\n",
    "    -------\n",
    "    tuple\n",
    "        A tuple containing the chromosome name (str), start value (int), and end value (int).\n",
    "    \"\"\"\n",
    "    chromosome, positions = data_string.split(':')\n",
    "    start_str, end_str = positions.split('-')\n",
    "    start = int(start_str.replace(',', ''))\n",
    "    end = int(end_str.replace(',', ''))\n",
    "    return chromosome, start, end"
   ]
  },
  {
   "cell_type": "code",
   "execution_count": 4,
   "metadata": {},
   "outputs": [
    {
     "name": "stdout",
     "output_type": "stream",
     "text": [
      "chr1\n",
      "10000\n",
      "20000\n"
     ]
    }
   ],
   "source": [
    "data_string = \"chr1:10,000-20,000\"\n",
    "chromosome, start, end = extract_positional_info(data_string)\n",
    "print(chromosome)  # Output: chr1\n",
    "print(start)  # Output: 10000\n",
    "print(end)  # Output: 20000"
   ]
  },
  {
   "attachments": {},
   "cell_type": "markdown",
   "metadata": {},
   "source": [
    "#### Test pyfiglet"
   ]
  },
  {
   "cell_type": "code",
   "execution_count": 23,
   "metadata": {},
   "outputs": [
    {
     "name": "stdout",
     "output_type": "stream",
     "text": [
      "    _   __          __ \n",
      "   / | / /__  ___  / /_\n",
      "  /  |/ / _ \\/ _ \\/ __/\n",
      " / /|  /  __/  __/ /_  \n",
      "/_/ |_/\\___/\\___/\\__/  \n",
      "                       \n",
      "\n"
     ]
    }
   ],
   "source": [
    "from pyfiglet import Figlet\n",
    "\n",
    "f = Figlet(font=\"slant\")\n",
    "o = f.renderText(\"Neet\")\n",
    "print(o)"
   ]
  }
 ],
 "metadata": {
  "kernelspec": {
   "display_name": "masterthesis",
   "language": "python",
   "name": "python3"
  },
  "language_info": {
   "codemirror_mode": {
    "name": "ipython",
    "version": 3
   },
   "file_extension": ".py",
   "mimetype": "text/x-python",
   "name": "python",
   "nbconvert_exporter": "python",
   "pygments_lexer": "ipython3",
   "version": "3.11.3"
  },
  "orig_nbformat": 4
 },
 "nbformat": 4,
 "nbformat_minor": 2
}
